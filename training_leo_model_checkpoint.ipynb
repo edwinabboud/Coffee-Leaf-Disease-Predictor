{
  "cells": [
    {
      "cell_type": "markdown",
      "id": "2d229813",
      "metadata": {
        "id": "2d229813"
      },
      "source": [
        "## Import all the Dependencies"
      ]
    },
    {
      "cell_type": "code",
      "execution_count": 1,
      "id": "ec1e2683-5f42-4739-9024-8c69b7c178ba",
      "metadata": {
        "id": "ec1e2683-5f42-4739-9024-8c69b7c178ba"
      },
      "outputs": [
        {
          "ename": "ModuleNotFoundError",
          "evalue": "No module named 'tensorflow'",
          "output_type": "error",
          "traceback": [
            "\u001b[0;31m---------------------------------------------------------------------------\u001b[0m",
            "\u001b[0;31mModuleNotFoundError\u001b[0m                       Traceback (most recent call last)",
            "Cell \u001b[0;32mIn[1], line 1\u001b[0m\n\u001b[0;32m----> 1\u001b[0m \u001b[38;5;28;01mimport\u001b[39;00m \u001b[38;5;21;01mtensorflow\u001b[39;00m \u001b[38;5;28;01mas\u001b[39;00m \u001b[38;5;21;01mtf\u001b[39;00m\n\u001b[1;32m      2\u001b[0m \u001b[38;5;28;01mfrom\u001b[39;00m \u001b[38;5;21;01mtensorflow\u001b[39;00m\u001b[38;5;21;01m.\u001b[39;00m\u001b[38;5;21;01mkeras\u001b[39;00m\u001b[38;5;21;01m.\u001b[39;00m\u001b[38;5;21;01mmodels\u001b[39;00m \u001b[38;5;28;01mimport\u001b[39;00m Sequential\n\u001b[1;32m      3\u001b[0m \u001b[38;5;28;01mfrom\u001b[39;00m \u001b[38;5;21;01mtensorflow\u001b[39;00m\u001b[38;5;21;01m.\u001b[39;00m\u001b[38;5;21;01mkeras\u001b[39;00m \u001b[38;5;28;01mimport\u001b[39;00m layers\n",
            "\u001b[0;31mModuleNotFoundError\u001b[0m: No module named 'tensorflow'"
          ]
        }
      ],
      "source": [
        "import tensorflow as tf\n",
        "from tensorflow.keras.models import Sequential\n",
        "from tensorflow.keras import layers\n",
        "import matplotlib.pyplot as plt"
      ]
    },
    {
      "cell_type": "code",
      "execution_count": null,
      "id": "87d28d74",
      "metadata": {
        "id": "87d28d74"
      },
      "outputs": [
        {
          "ename": "",
          "evalue": "",
          "output_type": "error",
          "traceback": [
            "\u001b[1;31mRunning cells with '/Users/edwinblanco/.pyenv/versions/3.10.6/bin/python' requires the ipykernel package.\n",
            "\u001b[1;31mRun the following command to install 'ipykernel' into the Python environment. \n",
            "\u001b[1;31mCommand: '/Users/edwinblanco/.pyenv/versions/3.10.6/bin/python -m pip install ipykernel -U --force-reinstall'"
          ]
        }
      ],
      "source": [
        "from tensorflow.keras.preprocessing.image import ImageDataGenerator\n",
        "import os\n",
        "import numpy as np\n",
        "import pandas as pd\n",
        "import keras\n",
        "import math\n",
        "import statistics\n",
        "from sklearn.model_selection import train_test_split\n",
        "from sklearn.metrics import f1_score\n",
        "from sklearn.metrics import accuracy_score as ac\n",
        "from sklearn.metrics import precision_score as pr\n",
        "from sklearn.metrics import recall_score as rs\n",
        "from sklearn.metrics import multilabel_confusion_matrix as cm\n",
        "from sklearn.metrics import confusion_matrix as cms\n",
        "from sklearn.metrics import roc_auc_score as auc"
      ]
    },
    {
      "cell_type": "markdown",
      "id": "d72d9ee6",
      "metadata": {
        "id": "d72d9ee6"
      },
      "source": [
        "## Set all the Constants"
      ]
    },
    {
      "cell_type": "code",
      "execution_count": null,
      "id": "d10d0ac4-488b-4c0c-adae-64fc0be22783",
      "metadata": {
        "id": "d10d0ac4-488b-4c0c-adae-64fc0be22783"
      },
      "outputs": [
        {
          "ename": "",
          "evalue": "",
          "output_type": "error",
          "traceback": [
            "\u001b[1;31mRunning cells with '/Users/edwinblanco/.pyenv/versions/3.10.6/bin/python' requires the ipykernel package.\n",
            "\u001b[1;31mRun the following command to install 'ipykernel' into the Python environment. \n",
            "\u001b[1;31mCommand: '/Users/edwinblanco/.pyenv/versions/3.10.6/bin/python -m pip install ipykernel -U --force-reinstall'"
          ]
        }
      ],
      "source": [
        "BATCH_SIZE = 64\n",
        "IMAGE_SIZE = 256\n",
        "CHANNELS=3\n",
        "EPOCHS=20"
      ]
    },
    {
      "cell_type": "markdown",
      "id": "f6960f64",
      "metadata": {
        "id": "f6960f64"
      },
      "source": [
        "## Import data into tensorflow dataset object"
      ]
    },
    {
      "cell_type": "code",
      "execution_count": null,
      "id": "UyEyYav6RSVv",
      "metadata": {
        "colab": {
          "base_uri": "https://localhost:8080/"
        },
        "id": "UyEyYav6RSVv",
        "outputId": "9426be89-e480-442f-92be-4374749180fc"
      },
      "outputs": [
        {
          "ename": "",
          "evalue": "",
          "output_type": "error",
          "traceback": [
            "\u001b[1;31mRunning cells with '/Users/edwinblanco/.pyenv/versions/3.10.6/bin/python' requires the ipykernel package.\n",
            "\u001b[1;31mRun the following command to install 'ipykernel' into the Python environment. \n",
            "\u001b[1;31mCommand: '/Users/edwinblanco/.pyenv/versions/3.10.6/bin/python -m pip install ipykernel -U --force-reinstall'"
          ]
        }
      ],
      "source": [
        "from google.colab import drive\n",
        "drive.mount('/content/drive')"
      ]
    },
    {
      "cell_type": "code",
      "execution_count": null,
      "id": "ded01d29-f18d-4dfb-97f7-8cdc8b2928fe",
      "metadata": {
        "colab": {
          "base_uri": "https://localhost:8080/"
        },
        "id": "ded01d29-f18d-4dfb-97f7-8cdc8b2928fe",
        "outputId": "ed69c985-56c6-4ea6-db1f-62ea6d3bd0f0"
      },
      "outputs": [
        {
          "ename": "",
          "evalue": "",
          "output_type": "error",
          "traceback": [
            "\u001b[1;31mRunning cells with '/Users/edwinblanco/.pyenv/versions/3.10.6/bin/python' requires the ipykernel package.\n",
            "\u001b[1;31mRun the following command to install 'ipykernel' into the Python environment. \n",
            "\u001b[1;31mCommand: '/Users/edwinblanco/.pyenv/versions/3.10.6/bin/python -m pip install ipykernel -U --force-reinstall'"
          ]
        }
      ],
      "source": [
        "dataset = tf.keras.preprocessing.image_dataset_from_directory(\n",
        "    \"/content/drive/MyDrive/Colab Notebooks/Mini Dataset \",\n",
        "    seed=123,\n",
        "    shuffle=True,\n",
        "    image_size=(IMAGE_SIZE,IMAGE_SIZE),\n",
        "    batch_size=BATCH_SIZE\n",
        ")"
      ]
    },
    {
      "cell_type": "code",
      "execution_count": null,
      "id": "15efa416-9120-4f0b-b0fc-9630e5d8b08f",
      "metadata": {
        "colab": {
          "base_uri": "https://localhost:8080/"
        },
        "id": "15efa416-9120-4f0b-b0fc-9630e5d8b08f",
        "outputId": "9431f2ea-521b-44bf-c0be-9ec07946c368"
      },
      "outputs": [
        {
          "ename": "",
          "evalue": "",
          "output_type": "error",
          "traceback": [
            "\u001b[1;31mRunning cells with '/Users/edwinblanco/.pyenv/versions/3.10.6/bin/python' requires the ipykernel package.\n",
            "\u001b[1;31mRun the following command to install 'ipykernel' into the Python environment. \n",
            "\u001b[1;31mCommand: '/Users/edwinblanco/.pyenv/versions/3.10.6/bin/python -m pip install ipykernel -U --force-reinstall'"
          ]
        }
      ],
      "source": [
        "class_names = dataset.class_names\n",
        "class_names"
      ]
    },
    {
      "cell_type": "code",
      "execution_count": null,
      "id": "e136be56",
      "metadata": {
        "colab": {
          "base_uri": "https://localhost:8080/",
          "height": 35
        },
        "id": "e136be56",
        "outputId": "12bb3206-fe90-4f72-e4cc-b14fb7e6bee4"
      },
      "outputs": [
        {
          "ename": "",
          "evalue": "",
          "output_type": "error",
          "traceback": [
            "\u001b[1;31mRunning cells with '/Users/edwinblanco/.pyenv/versions/3.10.6/bin/python' requires the ipykernel package.\n",
            "\u001b[1;31mRun the following command to install 'ipykernel' into the Python environment. \n",
            "\u001b[1;31mCommand: '/Users/edwinblanco/.pyenv/versions/3.10.6/bin/python -m pip install ipykernel -U --force-reinstall'"
          ]
        }
      ],
      "source": [
        "\"\"\"for image_batch, labels_batch in dataset.take(1):\n",
        "    print(image_batch.shape)\n",
        "    print(labels_batch.numpy())\"\"\""
      ]
    },
    {
      "cell_type": "markdown",
      "id": "a059b59f-03f4-4912-917b-fac7a690b18d",
      "metadata": {
        "id": "a059b59f-03f4-4912-917b-fac7a690b18d"
      },
      "source": [
        "## Visualize some of the images from our dataset"
      ]
    },
    {
      "cell_type": "code",
      "execution_count": null,
      "id": "2cd59749-c994-43b6-851d-5e518dbaac82",
      "metadata": {
        "colab": {
          "base_uri": "https://localhost:8080/",
          "height": 771
        },
        "id": "2cd59749-c994-43b6-851d-5e518dbaac82",
        "outputId": "403a3559-a59d-418d-a737-480fedd1bc58"
      },
      "outputs": [
        {
          "ename": "",
          "evalue": "",
          "output_type": "error",
          "traceback": [
            "\u001b[1;31mRunning cells with '/Users/edwinblanco/.pyenv/versions/3.10.6/bin/python' requires the ipykernel package.\n",
            "\u001b[1;31mRun the following command to install 'ipykernel' into the Python environment. \n",
            "\u001b[1;31mCommand: '/Users/edwinblanco/.pyenv/versions/3.10.6/bin/python -m pip install ipykernel -U --force-reinstall'"
          ]
        }
      ],
      "source": [
        "plt.figure(figsize=(10, 10))\n",
        "for image_batch, labels_batch in dataset.take(1):\n",
        "    for i in range(12):\n",
        "        ax = plt.subplot(3, 4, i + 1)\n",
        "        plt.imshow(image_batch[i].numpy().astype(\"uint8\"))\n",
        "        plt.title(class_names[labels_batch[i]])\n",
        "        plt.axis(\"off\")"
      ]
    },
    {
      "cell_type": "markdown",
      "id": "5a491ac4-d017-4f7d-af70-5e16b2b12922",
      "metadata": {
        "id": "5a491ac4-d017-4f7d-af70-5e16b2b12922"
      },
      "source": [
        "## Train Test Split"
      ]
    },
    {
      "cell_type": "code",
      "execution_count": null,
      "id": "cac3f830",
      "metadata": {
        "colab": {
          "base_uri": "https://localhost:8080/",
          "height": 211
        },
        "id": "cac3f830",
        "outputId": "45e724ff-606c-47e4-b231-63b880d29117"
      },
      "outputs": [
        {
          "ename": "",
          "evalue": "",
          "output_type": "error",
          "traceback": [
            "\u001b[1;31mRunning cells with '/Users/edwinblanco/.pyenv/versions/3.10.6/bin/python' requires the ipykernel package.\n",
            "\u001b[1;31mRun the following command to install 'ipykernel' into the Python environment. \n",
            "\u001b[1;31mCommand: '/Users/edwinblanco/.pyenv/versions/3.10.6/bin/python -m pip install ipykernel -U --force-reinstall'"
          ]
        }
      ],
      "source": [
        "#Create the ten splits for the 10-fold cross validation\n",
        "#dataset is where your data is stored and it should be in this format:\n",
        "#dataname:\n",
        "    #class one:\n",
        "        #images\n",
        "    #class two:\n",
        "        #images:\n",
        "    #class three:\n",
        "        #images\n",
        "datagen_train = tf.keras.preprocessing.image.ImageDataGenerator(\n",
        "            validation_split=0.2)\n",
        "datagen_test = tf.keras.preprocessing.image.ImageDataGenerator(\n",
        "            validation_split=0.2)#two data generators(reader) that will read the data as it is, the first one is for the train,\n",
        "                                #and the second one is for the test\n",
        "\n",
        "#We need to read the images and then resave them in folders.\n",
        "#The below autocreates these folders and saves them.\n",
        "seeds=[1,2,3,4,5,6,7,8,9,10]\n",
        "for j in range(0,10):\n",
        "    os.mkdir(str(j))\n",
        "    os.mkdir(str(j)+\"/test\")\n",
        "    os.mkdir(str(j)+\"/train\")\n",
        "    print(\"Train Test Splitting\",j,\"Commencing\")\n",
        "    for i, one_class in enumerate(os.listdir(\"/content/drive/MyDrive/Colab Notebooks/Mini Dataset \")):\n",
        "        print(\"Test Class\",one_class)\n",
        "        os.mkdir(str(j)+\"/test/\"+one_class)\n",
        "        gen = datagen_test.flow_from_directory(\n",
        "                \"/content/drive/MyDrive/Colab Notebooks/Mini Dataset \",\n",
        "                target_size = (224, 224),\n",
        "                batch_size = 1,\n",
        "                classes = [one_class],\n",
        "                save_to_dir = f'{j}/test/{one_class}',#this allows it to go to the path where the images will be saved, they should be created before which is why we have the chdir\n",
        "                save_prefix = 'new_image',\n",
        "                save_format = 'jpg',\n",
        "                seed=seeds[j],#seed is to be able to reproduce the split. If we have the same seed, then the data will be split in the same way everytime\n",
        "                subset=\"validation\",#this is to say that this will be the validation or test part, which will take a 0.2 partition of the data as specified in datagen_test and datagen_train\n",
        "                shuffle=True#shuffle is true to be able to create different splits\n",
        "              )\n",
        "        for i in range(0,len(gen)):\n",
        "                gen.next()\n",
        "    for i, one_class in enumerate(os.listdir(\"/content/drive/MyDrive/Colab Notebooks/Mini Dataset \")):\n",
        "        os.mkdir(str(j)+\"/train/\"+one_class)\n",
        "        print(\"Train Class\",one_class)\n",
        "        gen = datagen_train.flow_from_directory(\n",
        "                \"/content/drive/MyDrive/Colab Notebooks/Mini Dataset \",\n",
        "                target_size = (224, 224),\n",
        "                batch_size = 1,\n",
        "                classes = [one_class],\n",
        "                save_to_dir = f'{j}/train/{one_class}',\n",
        "                save_prefix = 'new_image',\n",
        "                save_format = 'jpg',\n",
        "                seed=seeds[j],\n",
        "                subset=\"training\",#this is to say that this will be the training part, which will take a 0.2 partition of the data as specified in datagen_test and datagen_train\n",
        "                shuffle=True\n",
        "              )\n",
        "        for i in range(0,len(gen)):\n",
        "                gen.next()"
      ]
    },
    {
      "cell_type": "markdown",
      "id": "b278fb3e-2f85-44dc-b39d-f3d7d4338c73",
      "metadata": {
        "id": "b278fb3e-2f85-44dc-b39d-f3d7d4338c73"
      },
      "source": [
        "## Resize and Rescale"
      ]
    },
    {
      "cell_type": "code",
      "execution_count": null,
      "id": "df2be9ba-5019-4eb0-837f-a2314e8984b4",
      "metadata": {
        "id": "df2be9ba-5019-4eb0-837f-a2314e8984b4"
      },
      "outputs": [
        {
          "ename": "",
          "evalue": "",
          "output_type": "error",
          "traceback": [
            "\u001b[1;31mRunning cells with '/Users/edwinblanco/.pyenv/versions/3.10.6/bin/python' requires the ipykernel package.\n",
            "\u001b[1;31mRun the following command to install 'ipykernel' into the Python environment. \n",
            "\u001b[1;31mCommand: '/Users/edwinblanco/.pyenv/versions/3.10.6/bin/python -m pip install ipykernel -U --force-reinstall'"
          ]
        }
      ],
      "source": [
        "resize_and_rescale = tf.keras.Sequential([\n",
        "  layers.experimental.preprocessing.Resizing(IMAGE_SIZE, IMAGE_SIZE),\n",
        "  layers.experimental.preprocessing.Rescaling(1./255),\n",
        "])"
      ]
    },
    {
      "cell_type": "markdown",
      "id": "UVR955SbR2so",
      "metadata": {
        "id": "UVR955SbR2so"
      },
      "source": []
    },
    {
      "cell_type": "markdown",
      "id": "7d5c2d7d-6b01-4bea-8292-5fb0a2f958df",
      "metadata": {
        "id": "7d5c2d7d-6b01-4bea-8292-5fb0a2f958df"
      },
      "source": [
        "## CNN Model Architecture\n",
        "\n"
      ]
    },
    {
      "cell_type": "code",
      "execution_count": null,
      "id": "hfTZ-AqXhPPa",
      "metadata": {
        "id": "hfTZ-AqXhPPa"
      },
      "outputs": [
        {
          "ename": "",
          "evalue": "",
          "output_type": "error",
          "traceback": [
            "\u001b[1;31mRunning cells with '/Users/edwinblanco/.pyenv/versions/3.10.6/bin/python' requires the ipykernel package.\n",
            "\u001b[1;31mRun the following command to install 'ipykernel' into the Python environment. \n",
            "\u001b[1;31mCommand: '/Users/edwinblanco/.pyenv/versions/3.10.6/bin/python -m pip install ipykernel -U --force-reinstall'"
          ]
        }
      ],
      "source": [
        "from tensorflow.keras.models import Model\n",
        "from tensorflow.keras.layers import Dense, GlobalAveragePooling2D\n",
        "from tensorflow.keras.applications import MobileNet\n",
        "\n",
        "def build_model():\n",
        "    base_model = MobileNet(weights='imagenet', include_top=False)  # Load MobileNet as base model\n",
        "\n",
        "    x = base_model.output\n",
        "    x = GlobalAveragePooling2D()(x)\n",
        "    # Add dense layers to make the model learn more complex functions\n",
        "    x = Dense(1024, activation='relu')(x)  # Dense layer 1\n",
        "    x = Dense(1024, activation='relu')(x)  # Dense layer 2\n",
        "    x = Dense(512, activation='relu')(x)   # Dense layer 3\n",
        "    preds = Dense(3, activation='softmax')(x)  # Final layer with softmax activation for 3 classes\n",
        "\n",
        "    # Create the model instance tying together the input of the base model and the output of the final layer\n",
        "    model = Model(inputs=base_model.input, outputs=preds)\n",
        "\n",
        "    return model\n"
      ]
    },
    {
      "cell_type": "code",
      "execution_count": null,
      "id": "6f085df3",
      "metadata": {
        "colab": {
          "base_uri": "https://localhost:8080/",
          "height": 104
        },
        "id": "6f085df3",
        "outputId": "82c37c57-34db-4d1a-98dc-b5830e10055d"
      },
      "outputs": [
        {
          "ename": "",
          "evalue": "",
          "output_type": "error",
          "traceback": [
            "\u001b[1;31mRunning cells with '/Users/edwinblanco/.pyenv/versions/3.10.6/bin/python' requires the ipykernel package.\n",
            "\u001b[1;31mRun the following command to install 'ipykernel' into the Python environment. \n",
            "\u001b[1;31mCommand: '/Users/edwinblanco/.pyenv/versions/3.10.6/bin/python -m pip install ipykernel -U --force-reinstall'"
          ]
        }
      ],
      "source": [
        "\"\"\"\n",
        "def build_model():\n",
        "  model = keras.Sequential([\n",
        "      resize_and_rescale,\n",
        "      layers.Conv2D(128, (3, 3), activation='relu', input_shape=(IMAGE_SIZE, IMAGE_SIZE, 3)),\n",
        "      layers.MaxPooling2D((2, 2)),\n",
        "\n",
        "      layers.Conv2D(64, (3, 3), activation='relu'),\n",
        "      layers.MaxPooling2D((2, 2)),\n",
        "\n",
        "      layers.Conv2D(32, (3, 3), activation='relu'),\n",
        "      layers.MaxPooling2D((2, 2)),\n",
        "\n",
        "      layers.Flatten(),\n",
        "      layers.Dropout(0.5),  # Dropout to reduce overfitting\n",
        "      layers.Dense(512, activation='relu'),\n",
        "      layers.Dense(3, activation='softmax')  # 3 classes: rusty_leaf, miner_leaf, healthy_leaf\n",
        "  ])\n",
        "  return model\n",
        "\n",
        "\"\"\"\n"
      ]
    },
    {
      "cell_type": "markdown",
      "id": "857268d7",
      "metadata": {
        "id": "857268d7"
      },
      "source": [
        "## 10 10-fold Cross-Validation"
      ]
    },
    {
      "cell_type": "code",
      "execution_count": null,
      "id": "d32deb56",
      "metadata": {
        "id": "d32deb56"
      },
      "outputs": [
        {
          "ename": "",
          "evalue": "",
          "output_type": "error",
          "traceback": [
            "\u001b[1;31mRunning cells with '/Users/edwinblanco/.pyenv/versions/3.10.6/bin/python' requires the ipykernel package.\n",
            "\u001b[1;31mRun the following command to install 'ipykernel' into the Python environment. \n",
            "\u001b[1;31mCommand: '/Users/edwinblanco/.pyenv/versions/3.10.6/bin/python -m pip install ipykernel -U --force-reinstall'"
          ]
        }
      ],
      "source": [
        "datagen_train = tf.keras.preprocessing.image.ImageDataGenerator(\n",
        "            rescale=1./255,\n",
        "            validation_split=0.2,\n",
        "            rotation_range=20,\n",
        "            width_shift_range=0.2,\n",
        "            height_shift_range=0.2,\n",
        "            shear_range=0.2,\n",
        "            zoom_range=0.2,\n",
        "            horizontal_flip=True,\n",
        "            vertical_flip=True,\n",
        "            fill_mode='nearest')"
      ]
    },
    {
      "cell_type": "code",
      "execution_count": null,
      "id": "5f7dc570",
      "metadata": {
        "id": "5f7dc570"
      },
      "outputs": [
        {
          "ename": "",
          "evalue": "",
          "output_type": "error",
          "traceback": [
            "\u001b[1;31mRunning cells with '/Users/edwinblanco/.pyenv/versions/3.10.6/bin/python' requires the ipykernel package.\n",
            "\u001b[1;31mRun the following command to install 'ipykernel' into the Python environment. \n",
            "\u001b[1;31mCommand: '/Users/edwinblanco/.pyenv/versions/3.10.6/bin/python -m pip install ipykernel -U --force-reinstall'"
          ]
        }
      ],
      "source": [
        "\n",
        "datagen_val = tf.keras.preprocessing.image.ImageDataGenerator(\n",
        "            rescale=1./255,\n",
        "            validation_split=0.2)"
      ]
    },
    {
      "cell_type": "code",
      "execution_count": null,
      "id": "39d1097c",
      "metadata": {
        "id": "39d1097c"
      },
      "outputs": [
        {
          "ename": "",
          "evalue": "",
          "output_type": "error",
          "traceback": [
            "\u001b[1;31mRunning cells with '/Users/edwinblanco/.pyenv/versions/3.10.6/bin/python' requires the ipykernel package.\n",
            "\u001b[1;31mRun the following command to install 'ipykernel' into the Python environment. \n",
            "\u001b[1;31mCommand: '/Users/edwinblanco/.pyenv/versions/3.10.6/bin/python -m pip install ipykernel -U --force-reinstall'"
          ]
        }
      ],
      "source": [
        "datagen_test = tf.keras.preprocessing.image.ImageDataGenerator(\n",
        "            rescale=1./255)\n",
        "#3 different ImageDataGenerator, the first one is for the train data, the second one\n",
        "                                     #is for the validation data, and the third one is for the test.\n",
        "\n",
        "total_evaluate_histories=[]\n",
        "total_models=[]\n",
        "total_histories=[]#all of the histories of all cross-validations in a way that [[histories of first crossvalidation],[],[],[],...]\n",
        "#same thing for total_models and total_evaluate_histories\n"
      ]
    },
    {
      "cell_type": "code",
      "execution_count": null,
      "id": "CSSOl70TJZKr",
      "metadata": {
        "colab": {
          "base_uri": "https://localhost:8080/",
          "height": 176
        },
        "id": "CSSOl70TJZKr",
        "outputId": "66afccd1-e145-4e81-c8cc-128e22b7055d"
      },
      "outputs": [
        {
          "ename": "",
          "evalue": "",
          "output_type": "error",
          "traceback": [
            "\u001b[1;31mRunning cells with '/Users/edwinblanco/.pyenv/versions/3.10.6/bin/python' requires the ipykernel package.\n",
            "\u001b[1;31mRun the following command to install 'ipykernel' into the Python environment. \n",
            "\u001b[1;31mCommand: '/Users/edwinblanco/.pyenv/versions/3.10.6/bin/python -m pip install ipykernel -U --force-reinstall'"
          ]
        }
      ],
      "source": [
        "os.mkdir(\"Histories\")\n",
        "os.mkdir(\"Evaluate_Histories\")\n",
        "for i in range(0,10):\n",
        "    os.mkdir(\"Histories/\"+str(i))\n",
        "    os.mkdir(\"Evaluate_Histories/\"+str(i))\n"
      ]
    },
    {
      "cell_type": "code",
      "execution_count": null,
      "id": "7e444cb7",
      "metadata": {
        "colab": {
          "base_uri": "https://localhost:8080/"
        },
        "id": "7e444cb7",
        "outputId": "3b25039e-3f33-4175-b2f7-3c26fcb2157f"
      },
      "outputs": [
        {
          "ename": "",
          "evalue": "",
          "output_type": "error",
          "traceback": [
            "\u001b[1;31mRunning cells with '/Users/edwinblanco/.pyenv/versions/3.10.6/bin/python' requires the ipykernel package.\n",
            "\u001b[1;31mRun the following command to install 'ipykernel' into the Python environment. \n",
            "\u001b[1;31mCommand: '/Users/edwinblanco/.pyenv/versions/3.10.6/bin/python -m pip install ipykernel -U --force-reinstall'"
          ]
        }
      ],
      "source": [
        "import json\n",
        "\n",
        "for j in range(10): #We already split the data 10 different ways and save them into folders, now we will have to read each split\n",
        "#as either train, which will be automatically recorded as train and validation\n",
        "    print(\"train test split\", j)\n",
        "    models=[]#save the models\n",
        "    histories=[]#save the histories of the fitting\n",
        "    evaluate_histories=[]#save the histories of the evaluation\n",
        "    seeds=[1,2,3,4,5,6,7,8,9,10]\n",
        "    train_root=\"./\"+str(j)+\"/train\"\n",
        "    test_root=\"./\"+str(j)+\"/test\"\n",
        "    test_generator = datagen_test.flow_from_directory(\n",
        "            test_root,\n",
        "            target_size=(IMAGE_SIZE, IMAGE_SIZE),\n",
        "            batch_size=BATCH_SIZE,\n",
        "            shuffle=True\n",
        "            )\n",
        "    for i in range(0,10):#Cross_Validation, doing this 10 times for 10-fold\n",
        "      if os.listdir(\"Histories/\"+str(j)).count('histories_'+str(i))==0:\n",
        "          print(\"train test split\", j, i,\"th fold\")\n",
        "          seed=seeds[i]#Setting the seed so that the result is reproducible as well as to have a perfect split between the train and validation\n",
        "          train_generator = datagen_train.flow_from_directory(\n",
        "              train_root,\n",
        "              seed=seed,\n",
        "              target_size=(IMAGE_SIZE, IMAGE_SIZE),\n",
        "              batch_size=BATCH_SIZE,\n",
        "              shuffle=True,\n",
        "              subset='training')#reading the training data\n",
        "          val_generator = datagen_val.flow_from_directory(\n",
        "              train_root,\n",
        "              seed=seed,\n",
        "              target_size=(IMAGE_SIZE, IMAGE_SIZE),\n",
        "              batch_size=BATCH_SIZE,\n",
        "              shuffle=True,\n",
        "              subset='validation')\n",
        "          if j>0:\n",
        "            with open(\"Histories/\"+str(j)+'/histories_'+str(i-1), encoding='utf-8') as json_file:\n",
        "                histories = json.load(json_file)\n",
        "            with open(\"Evaluate_Histories/\"+str(j)+'/evaluate_histories_'+str(i-1), encoding='utf-8') as json_file:\n",
        "                evaluate_histories = json.load(json_file)\n",
        "          model=build_model()\n",
        "          #compile the model, train it, and then reset it\n",
        "          model.compile(loss=\"categorical_crossentropy\", optimizer=\"adam\", metrics=[\"accuracy\"])\n",
        "          history=model.fit(train_generator, validation_data=val_generator, epochs=20,verbose=1,steps_per_epoch=train_generator.samples//train_generator.batch_size,validation_steps=val_generator.samples//val_generator.batch_size)#fitting the data\n",
        "          histories.append(history.history)\n",
        "          with open('histories_'+str(j), 'w') as fout:\n",
        "              json.dump(histories, fout)\n",
        "          models.append(model)\n",
        "          evaluate_history=model.evaluate(test_generator,steps=test_generator.samples // test_generator.batch_size)#evaluating\n",
        "          evaluate_histories.append(evaluate_history)\n",
        "          with open('evaluate_histories_'+str(j), 'w') as fout:\n",
        "              json.dump(evaluate_histories, fout)\n",
        "          model.reset_states()#reset the model\n",
        "    total_models.append(models)\n",
        "    total_histories.append(histories)"
      ]
    },
    {
      "cell_type": "markdown",
      "id": "eefd4433-adca-4eef-a5d5-546b99f08ea8",
      "metadata": {
        "id": "eefd4433-adca-4eef-a5d5-546b99f08ea8"
      },
      "source": [
        "## Train the Model"
      ]
    },
    {
      "cell_type": "code",
      "execution_count": null,
      "id": "02d57350",
      "metadata": {
        "id": "02d57350"
      },
      "outputs": [
        {
          "ename": "",
          "evalue": "",
          "output_type": "error",
          "traceback": [
            "\u001b[1;31mRunning cells with '/Users/edwinblanco/.pyenv/versions/3.10.6/bin/python' requires the ipykernel package.\n",
            "\u001b[1;31mRun the following command to install 'ipykernel' into the Python environment. \n",
            "\u001b[1;31mCommand: '/Users/edwinblanco/.pyenv/versions/3.10.6/bin/python -m pip install ipykernel -U --force-reinstall'"
          ]
        }
      ],
      "source": [
        "datagen_all = tf.keras.preprocessing.image.ImageDataGenerator(\n",
        "            rescale=1./255)"
      ]
    },
    {
      "cell_type": "code",
      "execution_count": null,
      "id": "XA1BkUxxaTui",
      "metadata": {
        "id": "XA1BkUxxaTui"
      },
      "outputs": [
        {
          "ename": "",
          "evalue": "",
          "output_type": "error",
          "traceback": [
            "\u001b[1;31mRunning cells with '/Users/edwinblanco/.pyenv/versions/3.10.6/bin/python' requires the ipykernel package.\n",
            "\u001b[1;31mRun the following command to install 'ipykernel' into the Python environment. \n",
            "\u001b[1;31mCommand: '/Users/edwinblanco/.pyenv/versions/3.10.6/bin/python -m pip install ipykernel -U --force-reinstall'"
          ]
        }
      ],
      "source": [
        "model_generator = datagen_all.flow_from_directory(\n",
        "            \"/content/drive/MyDrive/Colab Notebooks/Mini Dataset \",\n",
        "            target_size=(IMAGE_SIZE, IMAGE_SIZE),\n",
        "            batch_size=BATCH_SIZE,\n",
        "            )"
      ]
    },
    {
      "cell_type": "code",
      "execution_count": null,
      "id": "ECnroH5IbBUv",
      "metadata": {
        "id": "ECnroH5IbBUv"
      },
      "outputs": [
        {
          "ename": "",
          "evalue": "",
          "output_type": "error",
          "traceback": [
            "\u001b[1;31mRunning cells with '/Users/edwinblanco/.pyenv/versions/3.10.6/bin/python' requires the ipykernel package.\n",
            "\u001b[1;31mRun the following command to install 'ipykernel' into the Python environment. \n",
            "\u001b[1;31mCommand: '/Users/edwinblanco/.pyenv/versions/3.10.6/bin/python -m pip install ipykernel -U --force-reinstall'"
          ]
        }
      ],
      "source": [
        "model=build_model()\n",
        "\n",
        "#compile the model, train it, and then reset it\n",
        "model.compile(loss=\"categorical_crossentropy\", optimizer=\"adam\", metrics=[\"accuracy\"])"
      ]
    },
    {
      "cell_type": "code",
      "execution_count": null,
      "id": "431fa4be-fa05-4eca-88b1-39f9f218e55c",
      "metadata": {
        "id": "431fa4be-fa05-4eca-88b1-39f9f218e55c"
      },
      "outputs": [
        {
          "ename": "",
          "evalue": "",
          "output_type": "error",
          "traceback": [
            "\u001b[1;31mRunning cells with '/Users/edwinblanco/.pyenv/versions/3.10.6/bin/python' requires the ipykernel package.\n",
            "\u001b[1;31mRun the following command to install 'ipykernel' into the Python environment. \n",
            "\u001b[1;31mCommand: '/Users/edwinblanco/.pyenv/versions/3.10.6/bin/python -m pip install ipykernel -U --force-reinstall'"
          ]
        }
      ],
      "source": [
        "history = model.fit(\n",
        "    model_generator,\n",
        "    batch_size=BATCH_SIZE,\n",
        "    verbose=1,\n",
        "    epochs=EPOCHS\n",
        ")"
      ]
    },
    {
      "cell_type": "markdown",
      "id": "b5eeb07b-90ca-4dba-9088-2bf4c9478897",
      "metadata": {
        "id": "b5eeb07b-90ca-4dba-9088-2bf4c9478897"
      },
      "source": [
        "## Plotting the Accuracy and Loss Curves"
      ]
    },
    {
      "cell_type": "code",
      "execution_count": null,
      "id": "6b138f2c-4175-4ccb-bf20-a8ca8bd37019",
      "metadata": {
        "id": "6b138f2c-4175-4ccb-bf20-a8ca8bd37019"
      },
      "outputs": [
        {
          "ename": "",
          "evalue": "",
          "output_type": "error",
          "traceback": [
            "\u001b[1;31mRunning cells with '/Users/edwinblanco/.pyenv/versions/3.10.6/bin/python' requires the ipykernel package.\n",
            "\u001b[1;31mRun the following command to install 'ipykernel' into the Python environment. \n",
            "\u001b[1;31mCommand: '/Users/edwinblanco/.pyenv/versions/3.10.6/bin/python -m pip install ipykernel -U --force-reinstall'"
          ]
        }
      ],
      "source": [
        "history"
      ]
    },
    {
      "cell_type": "code",
      "execution_count": null,
      "id": "912a29c1-ee1b-49f8-9cf3-79c840208af2",
      "metadata": {
        "id": "912a29c1-ee1b-49f8-9cf3-79c840208af2"
      },
      "outputs": [
        {
          "ename": "",
          "evalue": "",
          "output_type": "error",
          "traceback": [
            "\u001b[1;31mRunning cells with '/Users/edwinblanco/.pyenv/versions/3.10.6/bin/python' requires the ipykernel package.\n",
            "\u001b[1;31mRun the following command to install 'ipykernel' into the Python environment. \n",
            "\u001b[1;31mCommand: '/Users/edwinblanco/.pyenv/versions/3.10.6/bin/python -m pip install ipykernel -U --force-reinstall'"
          ]
        }
      ],
      "source": [
        "history.params"
      ]
    },
    {
      "cell_type": "code",
      "execution_count": null,
      "id": "432dfdf4-cdd1-45c4-b8cf-4b749b74e903",
      "metadata": {
        "id": "432dfdf4-cdd1-45c4-b8cf-4b749b74e903"
      },
      "outputs": [
        {
          "ename": "",
          "evalue": "",
          "output_type": "error",
          "traceback": [
            "\u001b[1;31mRunning cells with '/Users/edwinblanco/.pyenv/versions/3.10.6/bin/python' requires the ipykernel package.\n",
            "\u001b[1;31mRun the following command to install 'ipykernel' into the Python environment. \n",
            "\u001b[1;31mCommand: '/Users/edwinblanco/.pyenv/versions/3.10.6/bin/python -m pip install ipykernel -U --force-reinstall'"
          ]
        }
      ],
      "source": [
        "history.history.keys()"
      ]
    },
    {
      "cell_type": "code",
      "execution_count": null,
      "id": "02ef1c4c-c913-4d6e-a40d-f5c7a45f4c41",
      "metadata": {
        "id": "02ef1c4c-c913-4d6e-a40d-f5c7a45f4c41"
      },
      "outputs": [
        {
          "ename": "",
          "evalue": "",
          "output_type": "error",
          "traceback": [
            "\u001b[1;31mRunning cells with '/Users/edwinblanco/.pyenv/versions/3.10.6/bin/python' requires the ipykernel package.\n",
            "\u001b[1;31mRun the following command to install 'ipykernel' into the Python environment. \n",
            "\u001b[1;31mCommand: '/Users/edwinblanco/.pyenv/versions/3.10.6/bin/python -m pip install ipykernel -U --force-reinstall'"
          ]
        }
      ],
      "source": [
        "type(history.history['loss'])"
      ]
    },
    {
      "cell_type": "code",
      "execution_count": null,
      "id": "e8269476-862b-4468-9f3a-b18824c42672",
      "metadata": {
        "id": "e8269476-862b-4468-9f3a-b18824c42672"
      },
      "outputs": [
        {
          "ename": "",
          "evalue": "",
          "output_type": "error",
          "traceback": [
            "\u001b[1;31mRunning cells with '/Users/edwinblanco/.pyenv/versions/3.10.6/bin/python' requires the ipykernel package.\n",
            "\u001b[1;31mRun the following command to install 'ipykernel' into the Python environment. \n",
            "\u001b[1;31mCommand: '/Users/edwinblanco/.pyenv/versions/3.10.6/bin/python -m pip install ipykernel -U --force-reinstall'"
          ]
        }
      ],
      "source": [
        "len(history.history['loss'])"
      ]
    },
    {
      "cell_type": "code",
      "execution_count": null,
      "id": "4b8dcd9e-e373-4edf-a00b-953e93feaf31",
      "metadata": {
        "id": "4b8dcd9e-e373-4edf-a00b-953e93feaf31"
      },
      "outputs": [
        {
          "ename": "",
          "evalue": "",
          "output_type": "error",
          "traceback": [
            "\u001b[1;31mRunning cells with '/Users/edwinblanco/.pyenv/versions/3.10.6/bin/python' requires the ipykernel package.\n",
            "\u001b[1;31mRun the following command to install 'ipykernel' into the Python environment. \n",
            "\u001b[1;31mCommand: '/Users/edwinblanco/.pyenv/versions/3.10.6/bin/python -m pip install ipykernel -U --force-reinstall'"
          ]
        }
      ],
      "source": [
        "history.history['loss'][:5] # show loss for first 5 epochs"
      ]
    },
    {
      "cell_type": "code",
      "execution_count": null,
      "id": "018bcc1a-de77-4d27-a01f-042db08fb669",
      "metadata": {
        "id": "018bcc1a-de77-4d27-a01f-042db08fb669"
      },
      "outputs": [
        {
          "ename": "",
          "evalue": "",
          "output_type": "error",
          "traceback": [
            "\u001b[1;31mRunning cells with '/Users/edwinblanco/.pyenv/versions/3.10.6/bin/python' requires the ipykernel package.\n",
            "\u001b[1;31mRun the following command to install 'ipykernel' into the Python environment. \n",
            "\u001b[1;31mCommand: '/Users/edwinblanco/.pyenv/versions/3.10.6/bin/python -m pip install ipykernel -U --force-reinstall'"
          ]
        }
      ],
      "source": [
        "acc = history.history['accuracy']\n",
        "val_acc = history.history['val_accuracy']\n",
        "\n",
        "loss = history.history['loss']\n",
        "val_loss = history.history['val_loss']"
      ]
    },
    {
      "cell_type": "code",
      "execution_count": null,
      "id": "d9212da0-0850-4d05-aff2-accfe6448b42",
      "metadata": {
        "id": "d9212da0-0850-4d05-aff2-accfe6448b42"
      },
      "outputs": [
        {
          "ename": "",
          "evalue": "",
          "output_type": "error",
          "traceback": [
            "\u001b[1;31mRunning cells with '/Users/edwinblanco/.pyenv/versions/3.10.6/bin/python' requires the ipykernel package.\n",
            "\u001b[1;31mRun the following command to install 'ipykernel' into the Python environment. \n",
            "\u001b[1;31mCommand: '/Users/edwinblanco/.pyenv/versions/3.10.6/bin/python -m pip install ipykernel -U --force-reinstall'"
          ]
        }
      ],
      "source": [
        "plt.figure(figsize=(8, 8))\n",
        "plt.subplot(1, 2, 1)\n",
        "plt.plot(range(EPOCHS), acc, label='Training Accuracy')\n",
        "plt.plot(range(EPOCHS), val_acc, label='Validation Accuracy')\n",
        "plt.legend(loc='lower right')\n",
        "plt.title('Training and Validation Accuracy')\n",
        "\n",
        "plt.subplot(1, 2, 2)\n",
        "plt.plot(range(EPOCHS), loss, label='Training Loss')\n",
        "plt.plot(range(EPOCHS), val_loss, label='Validation Loss')\n",
        "plt.legend(loc='upper right')\n",
        "plt.title('Training and Validation Loss')\n",
        "plt.show()"
      ]
    },
    {
      "cell_type": "markdown",
      "id": "25024348-eb74-48c0-82d3-5ae3afc08292",
      "metadata": {
        "id": "25024348-eb74-48c0-82d3-5ae3afc08292"
      },
      "source": [
        "## Run prediction on a sample image"
      ]
    },
    {
      "cell_type": "code",
      "execution_count": null,
      "id": "d44c20eb-a20e-45d8-96a3-9fea683137f7",
      "metadata": {
        "id": "d44c20eb-a20e-45d8-96a3-9fea683137f7"
      },
      "outputs": [
        {
          "ename": "",
          "evalue": "",
          "output_type": "error",
          "traceback": [
            "\u001b[1;31mRunning cells with '/Users/edwinblanco/.pyenv/versions/3.10.6/bin/python' requires the ipykernel package.\n",
            "\u001b[1;31mRun the following command to install 'ipykernel' into the Python environment. \n",
            "\u001b[1;31mCommand: '/Users/edwinblanco/.pyenv/versions/3.10.6/bin/python -m pip install ipykernel -U --force-reinstall'"
          ]
        }
      ],
      "source": [
        "import numpy as np\n",
        "for images_batch, labels_batch in test_ds.take(1):\n",
        "\n",
        "    first_image = images_batch[0].numpy().astype('uint8')\n",
        "    first_label = labels_batch[0].numpy()\n",
        "\n",
        "    print(\"first image to predict\")\n",
        "    plt.imshow(first_image)\n",
        "    print(\"actual label:\",class_names[first_label])\n",
        "\n",
        "    batch_prediction = model.predict(images_batch)\n",
        "    print(\"predicted label:\",class_names[np.argmax(batch_prediction[0])])"
      ]
    },
    {
      "cell_type": "code",
      "execution_count": null,
      "id": "a112e7fc-6ba3-4b45-b244-758b5bb63484",
      "metadata": {
        "id": "a112e7fc-6ba3-4b45-b244-758b5bb63484"
      },
      "outputs": [
        {
          "ename": "",
          "evalue": "",
          "output_type": "error",
          "traceback": [
            "\u001b[1;31mRunning cells with '/Users/edwinblanco/.pyenv/versions/3.10.6/bin/python' requires the ipykernel package.\n",
            "\u001b[1;31mRun the following command to install 'ipykernel' into the Python environment. \n",
            "\u001b[1;31mCommand: '/Users/edwinblanco/.pyenv/versions/3.10.6/bin/python -m pip install ipykernel -U --force-reinstall'"
          ]
        }
      ],
      "source": [
        "def predict(model, img):\n",
        "    img_array = tf.keras.preprocessing.image.img_to_array(images[i].numpy())\n",
        "    img_array = tf.expand_dims(img_array, 0)\n",
        "\n",
        "    predictions = model.predict(img_array)\n",
        "\n",
        "    predicted_class = class_names[np.argmax(predictions[0])]\n",
        "    confidence = round(100 * (np.max(predictions[0])), 2)\n",
        "    return predicted_class, confidence"
      ]
    },
    {
      "cell_type": "code",
      "execution_count": null,
      "id": "bc52d04e-4f08-44c3-b782-b9aa4e6a7dea",
      "metadata": {
        "id": "bc52d04e-4f08-44c3-b782-b9aa4e6a7dea"
      },
      "outputs": [
        {
          "ename": "",
          "evalue": "",
          "output_type": "error",
          "traceback": [
            "\u001b[1;31mRunning cells with '/Users/edwinblanco/.pyenv/versions/3.10.6/bin/python' requires the ipykernel package.\n",
            "\u001b[1;31mRun the following command to install 'ipykernel' into the Python environment. \n",
            "\u001b[1;31mCommand: '/Users/edwinblanco/.pyenv/versions/3.10.6/bin/python -m pip install ipykernel -U --force-reinstall'"
          ]
        }
      ],
      "source": [
        "plt.figure(figsize=(15, 15))\n",
        "for images, labels in test_ds.take(1):\n",
        "    for i in range(9):\n",
        "        ax = plt.subplot(3, 3, i + 1)\n",
        "        plt.imshow(images[i].numpy().astype(\"uint8\"))\n",
        "\n",
        "        predicted_class, confidence = predict(model, images[i].numpy())\n",
        "        actual_class = class_names[labels[i]]\n",
        "\n",
        "        plt.title(f\"Actual: {actual_class},\\n Predicted: {predicted_class}.\\n Confidence: {confidence}%\")\n",
        "\n",
        "        plt.axis(\"off\")"
      ]
    },
    {
      "cell_type": "markdown",
      "id": "d32b308b-886a-487b-9fe0-2ee7317d7041",
      "metadata": {
        "id": "d32b308b-886a-487b-9fe0-2ee7317d7041"
      },
      "source": [
        "## Saved Model"
      ]
    },
    {
      "cell_type": "code",
      "execution_count": null,
      "id": "32de570b-d0a9-405c-94f0-a30998e79f19",
      "metadata": {
        "id": "32de570b-d0a9-405c-94f0-a30998e79f19"
      },
      "outputs": [
        {
          "ename": "",
          "evalue": "",
          "output_type": "error",
          "traceback": [
            "\u001b[1;31mRunning cells with '/Users/edwinblanco/.pyenv/versions/3.10.6/bin/python' requires the ipykernel package.\n",
            "\u001b[1;31mRun the following command to install 'ipykernel' into the Python environment. \n",
            "\u001b[1;31mCommand: '/Users/edwinblanco/.pyenv/versions/3.10.6/bin/python -m pip install ipykernel -U --force-reinstall'"
          ]
        }
      ],
      "source": [
        "import os\n",
        "model_version=max([int(i) for i in os.listdir(\"../saved_models\") + [0]])+1\n",
        "model.save(f\"../models/{model_version}\")"
      ]
    }
  ],
  "metadata": {
    "accelerator": "GPU",
    "colab": {
      "gpuType": "V100",
      "provenance": []
    },
    "kernelspec": {
      "display_name": "Python 3",
      "name": "python3"
    },
    "language_info": {
      "codemirror_mode": {
        "name": "ipython",
        "version": 3
      },
      "file_extension": ".py",
      "mimetype": "text/x-python",
      "name": "python",
      "nbconvert_exporter": "python",
      "pygments_lexer": "ipython3",
      "version": "3.10.2"
    }
  },
  "nbformat": 4,
  "nbformat_minor": 5
}
